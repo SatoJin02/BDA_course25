{
  "nbformat": 4,
  "nbformat_minor": 0,
  "metadata": {
    "colab": {
      "provenance": [],
      "mount_file_id": "https://github.com/SatoJin02/BDA_course25/blob/main/ex02.ipynb",
      "authorship_tag": "ABX9TyP5MTHK08H+XAR46kQfUFXa",
      "include_colab_link": true
    },
    "kernelspec": {
      "name": "python3",
      "display_name": "Python 3"
    },
    "language_info": {
      "name": "python"
    }
  },
  "cells": [
    {
      "cell_type": "markdown",
      "metadata": {
        "id": "view-in-github",
        "colab_type": "text"
      },
      "source": [
        "<a href=\"https://colab.research.google.com/github/SatoJin02/BDA_course25/blob/main/ex02.ipynb\" target=\"_parent\"><img src=\"https://colab.research.google.com/assets/colab-badge.svg\" alt=\"Open In Colab\"/></a>"
      ]
    },
    {
      "cell_type": "markdown",
      "source": [
        "# 駅データの可視化（Folium & Plotly Express）\n",
        "\n",
        "このノートブックでは、駅データ（緯度・経度を含む CSV ファイル）を読み込み、  \n",
        "**Folium** と **Plotly Express** を用いて地図上に可視化します。  \n"
      ],
      "metadata": {
        "id": "4JCxeNlZe8dN"
      }
    },
    {
      "cell_type": "markdown",
      "source": [
        "## 1. 必要なライブラリのインポート\n",
        "\n",
        "- pandas : データフレーム操作  \n",
        "- folium : Leaflet.js ベースの地図描画  \n",
        "- plotly.express : Mapbox ベースのインタラクティブ描画\n"
      ],
      "metadata": {
        "id": "fOiD18mGfGDI"
      }
    },
    {
      "cell_type": "code",
      "source": [
        "import pandas as pd\n",
        "import folium\n",
        "import plotly.express as px"
      ],
      "metadata": {
        "id": "VzfDypAdfIN7"
      },
      "execution_count": null,
      "outputs": []
    },
    {
      "cell_type": "markdown",
      "source": [
        "## 2. データの読み込みと前処理\n",
        "\n",
        "CSVファイル `station_Info.csv` を読み込みます。  \n",
        "`Location` カラムには `\"Point(経度 緯度)\"` という形式で文字列が入っているため、  \n",
        "正規表現で経度（Longitude）と緯度（Latitude）を抽出して数値化します。\n"
      ],
      "metadata": {
        "id": "YsWenHibfKlO"
      }
    },
    {
      "cell_type": "code",
      "source": [
        "# CSV読み込み\n",
        "df = pd.read_csv(\"/content/station_Info.csv\")\n",
        "\n",
        "# 緯度経度を抽出\n",
        "df[[\"Longitude\", \"Latitude\"]] = df[\"Location\"].str.extract(\n",
        "    r'Point\\(([-0-9.]+) ([-0-9.]+)\\)'\n",
        ").astype(float)"
      ],
      "metadata": {
        "id": "Q0-kQt0dfQat"
      },
      "execution_count": null,
      "outputs": []
    },
    {
      "cell_type": "markdown",
      "source": [
        "## 3. Folium を使った地図表示\n",
        "\n",
        "- 地図の中心をデータの平均座標に設定  \n",
        "- 各駅にマーカーを追加  \n",
        "- マーカーをクリックすると住所が表示され、ホバーで stationId を確認できます  \n",
        "- `simple_dot_plot.html` として保存して、外部でも開けるようにしています  "
      ],
      "metadata": {
        "id": "wvRKRvwdfXSz"
      }
    },
    {
      "cell_type": "code",
      "source": [
        "# ==============================\n",
        "# Folium\n",
        "# ==============================\n",
        "this_map = folium.Map(\n",
        "    location=[df[\"Latitude\"].mean(), df[\"Longitude\"].mean()],\n",
        "    zoom_start=10,\n",
        "    prefer_canvas=True\n",
        ")\n",
        "\n",
        "# マーカー追加\n",
        "for _, row in df.iterrows():\n",
        "    folium.Marker(\n",
        "        location=[row[\"Latitude\"], row[\"Longitude\"]],\n",
        "        popup=row[\"Address\"],\n",
        "        tooltip=row[\"stationId\"]\n",
        "    ).add_to(this_map)\n",
        "\n",
        "# 範囲をデータにフィット\n",
        "this_map.fit_bounds(this_map.get_bounds())\n",
        "\n",
        "# HTMLに保存\n",
        "this_map.save(\"simple_dot_plot.html\")\n",
        "\n",
        "# Colab上でのインライン表示\n",
        "this_map\n"
      ],
      "metadata": {
        "id": "aM-dY5fofdyv"
      },
      "execution_count": null,
      "outputs": []
    },
    {
      "cell_type": "markdown",
      "source": [
        "## 4. Plotly Express を使った地図表示\n",
        "\n",
        "- Plotly Express の `scatter_mapbox` を利用  \n",
        "- 各駅を `stationId` ごとに色分けして表示  \n",
        "- ホバーすると stationId と住所が表示される  \n"
      ],
      "metadata": {
        "id": "-LCBhSBbfj32"
      }
    },
    {
      "cell_type": "code",
      "source": [
        "# ==============================\n",
        "# Plotly Express 可視化\n",
        "# ==============================\n",
        "fig = px.scatter_mapbox(\n",
        "    data_frame=df,\n",
        "    lat=\"Latitude\",\n",
        "    lon=\"Longitude\",\n",
        "    hover_name=\"stationId\",\n",
        "    hover_data=[\"Address\"],\n",
        "    color=\"stationId\",   # IDごとに色分け\n",
        "    size_max=15,\n",
        "    opacity=0.6,\n",
        "    center={'lat':34.686567, 'lon':135.52000},\n",
        "    zoom=4,\n",
        "    height=600,\n",
        "    width=800\n",
        ")\n",
        "\n",
        "# OpenStreetMapスタイルで描画\n",
        "fig.update_layout(\n",
        "    mapbox_style=\"open-street-map\",\n",
        "    margin={\"r\":0, \"t\":30, \"l\":0, \"b\":0},\n",
        "    title_text=\"Station Locations\"\n",
        ")\n",
        "fig.show()"
      ],
      "metadata": {
        "id": "5SDKE8hPfn7g"
      },
      "execution_count": null,
      "outputs": []
    }
  ]
}