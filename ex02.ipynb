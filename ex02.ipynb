{
  "nbformat": 4,
  "nbformat_minor": 0,
  "metadata": {
    "colab": {
      "provenance": [],
      "authorship_tag": "ABX9TyOhvE1LVDjH+OKMUWGvDzn+",
      "include_colab_link": true
    },
    "kernelspec": {
      "name": "python3",
      "display_name": "Python 3"
    },
    "language_info": {
      "name": "python"
    }
  },
  "cells": [
    {
      "cell_type": "markdown",
      "metadata": {
        "id": "view-in-github",
        "colab_type": "text"
      },
      "source": [
        "<a href=\"https://colab.research.google.com/github/SatoJin02/BDA_course25/blob/main/ex02.ipynb\" target=\"_parent\"><img src=\"https://colab.research.google.com/assets/colab-badge.svg\" alt=\"Open In Colab\"/></a>"
      ]
    },
    {
      "cell_type": "code",
      "execution_count": 1,
      "metadata": {
        "id": "sxY7hppuP_T2"
      },
      "outputs": [],
      "source": [
        "\n",
        "import pandas as pd\n",
        "import plotly.express as px\n",
        "\n",
        "df_city_population = pd.read_csv(\"./city_population.csv\")\n",
        "\n",
        "fig = px.scatter_mapbox(\n",
        "    # データフレームおよび緯度・経度の設定\n",
        "    data_frame=df_city_population,\n",
        "    lat=\"latitude\",\n",
        "    lon=\"longitude\",\n",
        "    # ホバー時の表示設定\n",
        "    hover_name=\"city\",\n",
        "    hover_data=[\"population\"],\n",
        "    # 散布図のマーカーの設定\n",
        "    color=\"population\",\n",
        "    size=\"population\",\n",
        "    size_max=30,\n",
        "    opacity=0.4,\n",
        "    # 作図の設定\n",
        "    center={'lat':34.686567, 'lon':135.52000},\n",
        "    zoom=4,\n",
        "    height=600,\n",
        "    width=800)\n",
        "fig.update_layout(mapbox_style='open-street-map')\n",
        "fig.update_layout(margin={\"r\": 0, \"t\": 0, \"l\": 0, \"b\": 0})\n",
        "fig.update_layout(title_text=\"Population of each cities\")\n",
        "fig.show()\n"
      ]
    }
  ]
}